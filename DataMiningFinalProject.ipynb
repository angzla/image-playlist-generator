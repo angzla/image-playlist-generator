{
  "nbformat": 4,
  "nbformat_minor": 0,
  "metadata": {
    "colab": {
      "provenance": [],
      "gpuType": "T4",
      "authorship_tag": "ABX9TyMZeNdAFSiNIw/Et6eOlPdd",
      "include_colab_link": true
    },
    "kernelspec": {
      "name": "python3",
      "display_name": "Python 3"
    },
    "language_info": {
      "name": "python"
    },
    "accelerator": "GPU"
  },
  "cells": [
    {
      "cell_type": "markdown",
      "metadata": {
        "id": "view-in-github",
        "colab_type": "text"
      },
      "source": [
        "<a href=\"https://colab.research.google.com/github/angzla/image-playlist-generator/blob/main/DataMiningFinalProject.ipynb\" target=\"_parent\"><img src=\"https://colab.research.google.com/assets/colab-badge.svg\" alt=\"Open In Colab\"/></a>"
      ]
    },
    {
      "cell_type": "code",
      "execution_count": null,
      "metadata": {
        "id": "Mxqv1lOSz_YJ"
      },
      "outputs": [],
      "source": [
        "import matplotlib.pyplot as plt # for plotting\n",
        "import numpy as np # for transformation\n",
        "\n",
        "import torch # PyTorch package\n",
        "import torchvision # load datasets\n",
        "import torchvision.transforms as transforms # transform data\n",
        "import torch.nn as nn # basic building block for neural neteorks\n",
        "import torch.nn.functional as F # import convolution functions like Relu\n",
        "import torch.optim as optim # optimzer\n",
        "\n",
        "#make sure to change ram/disk to t4GPU before running"
      ]
    },
    {
      "cell_type": "code",
      "source": [
        "# python image library of range [0, 1]\n",
        "# transform them to tensors of normalized range[-1, 1]\n",
        "\n",
        "transform = transforms.Compose( # composing several transforms together\n",
        "    [transforms.ToTensor(), # to tensor object\n",
        "     transforms.Normalize((0.5, 0.5, 0.5), (0.5, 0.5, 0.5))]) # mean = 0.5, std = 0.5\n",
        "\n",
        "# set batch_size\n",
        "batch_size = 4\n",
        "\n",
        "# set number of workers\n",
        "num_workers = 2\n",
        "\n",
        "# load train data\n",
        "trainset = torchvision.datasets.CIFAR10(root='./data', train=True,\n",
        "                                        download=True, transform=transform)\n",
        "trainloader = torch.utils.data.DataLoader(trainset, batch_size=batch_size,\n",
        "                                          shuffle=True, num_workers=num_workers)\n",
        "\n",
        "# load test data\n",
        "testset = torchvision.datasets.CIFAR10(root='./data', train=False,\n",
        "                                       download=True, transform=transform)\n",
        "testloader = torch.utils.data.DataLoader(testset, batch_size=batch_size,\n",
        "                                         shuffle=False, num_workers=num_workers)\n",
        "\n",
        "# put 10 classes into a set\n",
        "classes = ('plane', 'car', 'bird', 'cat',\n",
        "           'deer', 'dog', 'frog', 'horse', 'ship', 'truck')"
      ],
      "metadata": {
        "colab": {
          "base_uri": "https://localhost:8080/"
        },
        "id": "kiyxBBc61CLP",
        "outputId": "29b918cb-ae78-47e9-a722-42225eedf8da"
      },
      "execution_count": null,
      "outputs": [
        {
          "output_type": "stream",
          "name": "stdout",
          "text": [
            "Downloading https://www.cs.toronto.edu/~kriz/cifar-10-python.tar.gz to ./data/cifar-10-python.tar.gz\n"
          ]
        },
        {
          "output_type": "stream",
          "name": "stderr",
          "text": [
            "100%|██████████| 170498071/170498071 [00:02<00:00, 77237671.84it/s]\n"
          ]
        },
        {
          "output_type": "stream",
          "name": "stdout",
          "text": [
            "Extracting ./data/cifar-10-python.tar.gz to ./data\n",
            "Files already downloaded and verified\n"
          ]
        }
      ]
    },
    {
      "cell_type": "code",
      "source": [
        "def imshow(img):\n",
        "  ''' function to show image '''\n",
        "  img = img / 2 + 0.5 # unnormalize\n",
        "  npimg = img.numpy() # convert to numpy objects\n",
        "  plt.imshow(np.transpose(npimg, (1, 2, 0)))\n",
        "  plt.show()\n",
        "\n",
        "# get random training images with iter function\n",
        "dataiter = iter(trainloader)\n",
        "images, labels = next(dataiter)\n",
        "\n",
        "# call function on our images\n",
        "imshow(torchvision.utils.make_grid(images))\n",
        "\n",
        "# print the class of the image\n",
        "print(' '.join('%s' % classes[labels[j]] for j in range(batch_size)))"
      ],
      "metadata": {
        "colab": {
          "base_uri": "https://localhost:8080/",
          "height": 210
        },
        "id": "J0QZdM441Y3E",
        "outputId": "677d0347-a11b-4219-bca7-18b5fff67c46"
      },
      "execution_count": null,
      "outputs": [
        {
          "output_type": "display_data",
          "data": {
            "text/plain": [
              "<Figure size 640x480 with 1 Axes>"
            ],
            "image/png": "[encoded data removed]"
          },
          "metadata": {}
        },
        {
          "output_type": "stream",
          "name": "stdout",
          "text": [
            "truck ship cat frog\n"
          ]
        }
      ]
    },
    {
      "cell_type": "code",
      "source": [
        "class Net(nn.Module):\n",
        "    ''' Models a simple Convolutional Neural Network'''\n",
        "    def __init__(self):\n",
        "      ''' initialize the network '''\n",
        "      super(Net, self).__init__()\n",
        "      # 3 input image channel, 6 output channels,\n",
        "      # 5x5 square convolution kernel\n",
        "      self.conv1 = nn.Conv2d(3, 6, 5)\n",
        "      # Max pooling over a (2, 2) window\n",
        "      self.pool = nn.MaxPool2d(2, 2)\n",
        "      self.conv2 = nn.Conv2d(6, 16, 5)\n",
        "      self.fc1 = nn.Linear(16 * 5 * 5, 120)# 5x5 from image dimension\n",
        "      self.fc2 = nn.Linear(120, 84)\n",
        "      self.fc3 = nn.Linear(84, 10)\n",
        "\n",
        "    def forward(self, x):\n",
        "      ''' the forward propagation algorithm '''\n",
        "      x = self.pool(F.relu(self.conv1(x)))\n",
        "      x = self.pool(F.relu(self.conv2(x)))\n",
        "      x = x.view(-1, 16 * 5 * 5)\n",
        "      x = F.relu(self.fc1(x))\n",
        "      x = F.relu(self.fc2(x))\n",
        "      x = self.fc3(x)\n",
        "      return x\n",
        "\n",
        "net = Net()\n",
        "print(net)"
      ],
      "metadata": {
        "colab": {
          "base_uri": "https://localhost:8080/"
        },
        "id": "ZVk5cX_Q3Tns",
        "outputId": "82cb9b84-c463-4f41-cf7a-6bd28116c4a9"
      },
      "execution_count": null,
      "outputs": [
        {
          "output_type": "stream",
          "name": "stdout",
          "text": [
            "Net(\n",
            "  (conv1): Conv2d(3, 6, kernel_size=(5, 5), stride=(1, 1))\n",
            "  (pool): MaxPool2d(kernel_size=2, stride=2, padding=0, dilation=1, ceil_mode=False)\n",
            "  (conv2): Conv2d(6, 16, kernel_size=(5, 5), stride=(1, 1))\n",
            "  (fc1): Linear(in_features=400, out_features=120, bias=True)\n",
            "  (fc2): Linear(in_features=120, out_features=84, bias=True)\n",
            "  (fc3): Linear(in_features=84, out_features=10, bias=True)\n",
            ")\n"
          ]
        }
      ]
    },
    {
      "cell_type": "code",
      "source": [
        "#define a loss function and optimizer\n",
        "criterion = nn.CrossEntropyLoss()\n",
        "optimizer = optim.SGD(net.parameters(), lr=0.001, momentum=0.9)"
      ],
      "metadata": {
        "id": "cULCJNsX4Ppm"
      },
      "execution_count": null,
      "outputs": []
    },
    {
      "cell_type": "code",
      "source": [
        "#train the network\n",
        "start = torch.cuda.Event(enable_timing=True)\n",
        "end = torch.cuda.Event(enable_timing=True)\n",
        "\n",
        "start.record()\n",
        "\n",
        "for epoch in range(2):  # loop over the dataset multiple times\n",
        "\n",
        "    running_loss = 0.0\n",
        "    for i, data in enumerate(trainloader, 0):\n",
        "        # get the inputs; data is a list of [inputs, labels]\n",
        "        inputs, labels = data\n",
        "\n",
        "        # zero the parameter gradients\n",
        "        optimizer.zero_grad()\n",
        "\n",
        "        # forward + backward + optimize\n",
        "        outputs = net(inputs)\n",
        "        loss = criterion(outputs, labels)\n",
        "        loss.backward()\n",
        "        optimizer.step()\n",
        "\n",
        "        # print statistics\n",
        "        running_loss += loss.item()\n",
        "        if i % 2000 == 1999:    # print every 2000 mini-batches\n",
        "            print('[%d, %5d] loss: %.3f' %\n",
        "                  (epoch + 1, i + 1, running_loss / 2000))\n",
        "            running_loss = 0.0\n",
        "\n",
        "# whatever you are timing goes here\n",
        "end.record()\n",
        "\n",
        "# Waits for everything to finish running\n",
        "torch.cuda.synchronize()\n",
        "\n",
        "print('Finished Training')\n",
        "print(start.elapsed_time(end))  # milliseconds"
      ],
      "metadata": {
        "colab": {
          "base_uri": "https://localhost:8080/"
        },
        "id": "2-cnXi6s4Y4F",
        "outputId": "08ff5133-76dd-4484-9cac-b98f3ab1fa0f"
      },
      "execution_count": null,
      "outputs": [
        {
          "output_type": "stream",
          "name": "stdout",
          "text": [
            "[1,  2000] loss: 2.247\n",
            "[1,  4000] loss: 1.880\n",
            "[1,  6000] loss: 1.684\n",
            "[1,  8000] loss: 1.592\n",
            "[1, 10000] loss: 1.522\n",
            "[1, 12000] loss: 1.466\n",
            "[2,  2000] loss: 1.388\n",
            "[2,  4000] loss: 1.349\n",
            "[2,  6000] loss: 1.352\n",
            "[2,  8000] loss: 1.324\n",
            "[2, 10000] loss: 1.294\n",
            "[2, 12000] loss: 1.270\n",
            "Finished Training\n",
            "131883.125\n"
          ]
        }
      ]
    },
    {
      "cell_type": "code",
      "source": [
        "#testing model\n",
        "dataiter = iter(testloader)\n",
        "images, labels = next(dataiter)\n",
        "\n",
        "# print images\n",
        "imshow(torchvision.utils.make_grid(images))\n",
        "print('GroundTruth: ', ' '.join('%s' % classes[labels[j]] for j in range(4)))"
      ],
      "metadata": {
        "colab": {
          "base_uri": "https://localhost:8080/",
          "height": 210
        },
        "id": "MU-kGblc55yl",
        "outputId": "277bd459-d2b2-48ae-e5e5-3f9eb0c91785"
      },
      "execution_count": null,
      "outputs": [
        {
          "output_type": "display_data",
          "data": {
            "text/plain": [
              "<Figure size 640x480 with 1 Axes>"
            ],
            "image/png": "[encoded data removed]"
          },
          "metadata": {}
        },
        {
          "output_type": "stream",
          "name": "stdout",
          "text": [
            "GroundTruth:  cat ship ship plane\n"
          ]
        }
      ]
    },
    {
      "cell_type": "code",
      "source": [
        "outputs = net(images)\n",
        "\n",
        "_, predicted = torch.max(outputs, 1)\n",
        "\n",
        "print('Predicted: ', ' '.join('%s' % classes[predicted[j]]\n",
        "                              for j in range(4)))"
      ],
      "metadata": {
        "colab": {
          "base_uri": "https://localhost:8080/"
        },
        "id": "Fg2ndgim6Axc",
        "outputId": "df104688-816f-4aab-bfcd-8defd1c57357"
      },
      "execution_count": null,
      "outputs": [
        {
          "output_type": "stream",
          "name": "stdout",
          "text": [
            "Predicted:  cat ship plane ship\n"
          ]
        }
      ]
    },
    {
      "cell_type": "code",
      "source": [
        "#testing model on 1000 images\n",
        "correct = 0\n",
        "total = 0\n",
        "with torch.no_grad():\n",
        "    for data in testloader:\n",
        "        images, labels = data\n",
        "        outputs = net(images)\n",
        "        _, predicted = torch.max(outputs.data, 1)\n",
        "        total += labels.size(0)\n",
        "        correct += (predicted == labels).sum().item()\n",
        "\n",
        "print('Accuracy of the network on the 10000 test images: %d %%' % (\n",
        "    100 * correct / total))"
      ],
      "metadata": {
        "colab": {
          "base_uri": "https://localhost:8080/"
        },
        "id": "KK47hxyZ6E6B",
        "outputId": "4b538c33-398e-447a-9c37-10391e2778bf"
      },
      "execution_count": null,
      "outputs": [
        {
          "output_type": "stream",
          "name": "stdout",
          "text": [
            "Accuracy of the network on the 10000 test images: 54 %\n"
          ]
        }
      ]
    },
    {
      "cell_type": "markdown",
      "source": [
        "#Attempt 2: Tweaking features to increase accuracy"
      ],
      "metadata": {
        "id": "JFD7WiRgS7vK"
      }
    },
    {
      "cell_type": "code",
      "source": [
        "import pandas as pd\n",
        "import numpy as np\n",
        "\n",
        "import torch\n",
        "import torch.nn as nn\n",
        "import torch.nn.functional as F\n",
        "import torch.optim as optim\n",
        "from torch.optim import lr_scheduler\n",
        "from torch.autograd import Variable\n",
        "from torch.utils.data import DataLoader, Dataset\n",
        "#from torchvision import transforms\n",
        "from torchvision.utils import make_grid\n",
        "\n",
        "\n",
        "import torchvision # load datasets\n",
        "import torchvision.transforms as transforms # transform data\n",
        "import torch.nn as nn # basic building block for neural neteorks\n",
        "import torch.nn.functional as F # import convolution functions like Relu\n",
        "import torch.optim as optim # optimzer\n",
        "\n",
        "import math\n",
        "import random\n",
        "\n",
        "from PIL import Image, ImageOps, ImageEnhance\n",
        "import numbers\n",
        "\n",
        "import matplotlib.pyplot as plt\n",
        "%matplotlib inline"
      ],
      "metadata": {
        "id": "yTHtCShaTA7z"
      },
      "execution_count": 1,
      "outputs": []
    },
    {
      "cell_type": "code",
      "source": [
        "#adding rotation transformation\n",
        "class RandomRotation(object):\n",
        "    \"\"\"\n",
        "    https://github.com/pytorch/vision/tree/master/torchvision/transforms\n",
        "    Rotate the image by angle.\n",
        "    Args:\n",
        "        degrees (sequence or float or int): Range of degrees to select from.\n",
        "            If degrees is a number instead of sequence like (min, max), the range of degrees\n",
        "            will be (-degrees, +degrees).\n",
        "        resample ({PIL.Image.NEAREST, PIL.Image.BILINEAR, PIL.Image.BICUBIC}, optional):\n",
        "            An optional resampling filter.\n",
        "            See http://pillow.readthedocs.io/en/3.4.x/handbook/concepts.html#filters\n",
        "            If omitted, or if the image has mode \"1\" or \"P\", it is set to PIL.Image.NEAREST.\n",
        "        expand (bool, optional): Optional expansion flag.\n",
        "            If true, expands the output to make it large enough to hold the entire rotated image.\n",
        "            If false or omitted, make the output image the same size as the input image.\n",
        "            Note that the expand flag assumes rotation around the center and no translation.\n",
        "        center (2-tuple, optional): Optional center of rotation.\n",
        "            Origin is the upper left corner.\n",
        "            Default is the center of the image.\n",
        "    \"\"\"\n",
        "\n",
        "    def __init__(self, degrees, resample=False, expand=False, center=None):\n",
        "        if isinstance(degrees, numbers.Number):\n",
        "            if degrees < 0:\n",
        "                raise ValueError(\"If degrees is a single number, it must be positive.\")\n",
        "            self.degrees = (-degrees, degrees)\n",
        "        else:\n",
        "            if len(degrees) != 2:\n",
        "                raise ValueError(\"If degrees is a sequence, it must be of len 2.\")\n",
        "            self.degrees = degrees\n",
        "\n",
        "        self.resample = resample\n",
        "        self.expand = expand\n",
        "        self.center = center\n",
        "\n",
        "    @staticmethod\n",
        "    def get_params(degrees):\n",
        "        \"\"\"Get parameters for ``rotate`` for a random rotation.\n",
        "        Returns:\n",
        "            sequence: params to be passed to ``rotate`` for random rotation.\n",
        "        \"\"\"\n",
        "        angle = np.random.uniform(degrees[0], degrees[1])\n",
        "\n",
        "        return angle\n",
        "\n",
        "    def __call__(self, img):\n",
        "        \"\"\"\n",
        "            img (PIL Image): Image to be rotated.\n",
        "        Returns:\n",
        "            PIL Image: Rotated image.\n",
        "        \"\"\"\n",
        "\n",
        "        def rotate(img, angle, resample=False, expand=False, center=None):\n",
        "            \"\"\"Rotate the image by angle and then (optionally) translate it by (n_columns, n_rows)\n",
        "            Args:\n",
        "            img (PIL Image): PIL Image to be rotated.\n",
        "            angle ({float, int}): In degrees degrees counter clockwise order.\n",
        "            resample ({PIL.Image.NEAREST, PIL.Image.BILINEAR, PIL.Image.BICUBIC}, optional):\n",
        "            An optional resampling filter.\n",
        "            See http://pillow.readthedocs.io/en/3.4.x/handbook/concepts.html#filters\n",
        "            If omitted, or if the image has mode \"1\" or \"P\", it is set to PIL.Image.NEAREST.\n",
        "            expand (bool, optional): Optional expansion flag.\n",
        "            If true, expands the output image to make it large enough to hold the entire rotated image.\n",
        "            If false or omitted, make the output image the same size as the input image.\n",
        "            Note that the expand flag assumes rotation around the center and no translation.\n",
        "            center (2-tuple, optional): Optional center of rotation.\n",
        "            Origin is the upper left corner.\n",
        "            Default is the center of the image.\n",
        "            \"\"\"\n",
        "\n",
        "            return img.rotate(angle, resample, expand, center)\n",
        "\n",
        "        angle = self.get_params(self.degrees)\n",
        "\n",
        "        return rotate(img, angle, self.resample, self.expand, self.center)"
      ],
      "metadata": {
        "id": "yaRRMgPdoXki"
      },
      "execution_count": 2,
      "outputs": []
    },
    {
      "cell_type": "code",
      "source": [
        "#random vertical and horizontal shift\n",
        "class RandomShift(object):\n",
        "    def __init__(self, shift):\n",
        "        self.shift = shift\n",
        "\n",
        "    @staticmethod\n",
        "    def get_params(shift):\n",
        "        \"\"\"Get parameters for ``rotate`` for a random rotation.\n",
        "        Returns:\n",
        "            sequence: params to be passed to ``rotate`` for random rotation.\n",
        "        \"\"\"\n",
        "        hshift, vshift = np.random.uniform(-shift, shift, size=2)\n",
        "\n",
        "        return hshift, vshift\n",
        "    def __call__(self, img):\n",
        "        hshift, vshift = self.get_params(self.shift)\n",
        "\n",
        "        return img.transform(img.size, Image.AFFINE, (1,0,hshift,0,1,vshift), resample=Image.BICUBIC, fill=1)"
      ],
      "metadata": {
        "id": "zNHOSELLoj9J"
      },
      "execution_count": 3,
      "outputs": []
    },
    {
      "cell_type": "code",
      "source": [
        "transform = transforms.Compose([RandomRotation(degrees=20), RandomShift(3), transforms.ToTensor(), # to tensor object\n",
        "     transforms.Normalize(mean=(0.5,), std=(0.5,))])\n",
        "     # mean = 0.5, std = 0.5"
      ],
      "metadata": {
        "id": "qutzS9Cg4G_C"
      },
      "execution_count": 4,
      "outputs": []
    },
    {
      "cell_type": "code",
      "source": [
        "#changes from previous code; added random rotation and random shift transforms, changed batch size to 64\n",
        "\n",
        "# set batch_size\n",
        "batch_size = 64\n",
        "\n",
        "# load train data\n",
        "trainset = torchvision.datasets.CIFAR10(root='./data', train=True,\n",
        "                                        download=True, transform=transform)\n",
        "trainloader = torch.utils.data.DataLoader(trainset, batch_size=batch_size,\n",
        "                                          shuffle=True)\n",
        "\n",
        "# load test data\n",
        "testset = torchvision.datasets.CIFAR10(root='./data', train=False,\n",
        "                                       download=True, transform = transforms.Compose([transforms.ToTensor(), # to tensor object\n",
        "     transforms.Normalize(mean=(0.5,), std=(0.5,))]))\n",
        "testloader = torch.utils.data.DataLoader(testset, batch_size=batch_size,\n",
        "                                         shuffle=False)\n",
        "\n",
        "# put 10 classes into a set\n",
        "classes = ('plane', 'car', 'bird', 'cat',\n",
        "           'deer', 'dog', 'frog', 'horse', 'ship', 'truck')"
      ],
      "metadata": {
        "colab": {
          "base_uri": "https://localhost:8080/"
        },
        "id": "o_owXwT-ovEU",
        "outputId": "fe42c3ac-c3fc-4bf0-db03-7047ba82e989"
      },
      "execution_count": 5,
      "outputs": [
        {
          "output_type": "stream",
          "name": "stdout",
          "text": [
            "Downloading https://www.cs.toronto.edu/~kriz/cifar-10-python.tar.gz to ./data/cifar-10-python.tar.gz\n"
          ]
        },
        {
          "output_type": "stream",
          "name": "stderr",
          "text": [
            "100%|██████████| 170498071/170498071 [00:03<00:00, 48498057.91it/s]\n"
          ]
        },
        {
          "output_type": "stream",
          "name": "stdout",
          "text": [
            "Extracting ./data/cifar-10-python.tar.gz to ./data\n",
            "Files already downloaded and verified\n"
          ]
        }
      ]
    },
    {
      "cell_type": "code",
      "source": [
        "class Net(nn.Module):\n",
        "    def __init__(self):\n",
        "        super(Net, self).__init__()\n",
        "\n",
        "        self.features = nn.Sequential(\n",
        "            #nn.Conv2d(1, 32, kernel_size=3, stride=1, padding=1),\n",
        "            nn.Conv2d(3, 32, kernel_size=3, stride=1, padding=1),\n",
        "            nn.BatchNorm2d(32),\n",
        "            nn.ReLU(inplace=True),\n",
        "            nn.Conv2d(32, 32, kernel_size=3, stride=1, padding=1),\n",
        "            nn.BatchNorm2d(32),\n",
        "            nn.ReLU(inplace=True),\n",
        "            nn.MaxPool2d(kernel_size=2, stride=2),\n",
        "            nn.Conv2d(32, 64, kernel_size=3, padding=1),\n",
        "            nn.BatchNorm2d(64),\n",
        "            nn.ReLU(inplace=True),\n",
        "            nn.Conv2d(64, 64, kernel_size=3, padding=1),\n",
        "            nn.BatchNorm2d(64),\n",
        "            nn.ReLU(inplace=True),\n",
        "            nn.MaxPool2d(kernel_size=2, stride=2)\n",
        "        )\n",
        "\n",
        "        self.classifier = nn.Sequential(\n",
        "            nn.Dropout(p = 0.5),\n",
        "            nn.Linear(64 * 8 * 8, 512),\n",
        "            nn.BatchNorm1d(512),\n",
        "            nn.ReLU(inplace=True),\n",
        "            nn.Dropout(p = 0.5),\n",
        "            nn.Linear(512, 512),\n",
        "            nn.BatchNorm1d(512),\n",
        "            nn.ReLU(inplace=True),\n",
        "            nn.Dropout(p = 0.5),\n",
        "            nn.Linear(512, 10),\n",
        "        )\n",
        "\n",
        "        for m in self.features.children():\n",
        "            if isinstance(m, nn.Conv2d):\n",
        "                n = m.kernel_size[0] * m.kernel_size[1] * m.out_channels\n",
        "                m.weight.data.normal_(0, math.sqrt(2. / n))\n",
        "            elif isinstance(m, nn.BatchNorm2d):\n",
        "                m.weight.data.fill_(1)\n",
        "                m.bias.data.zero_()\n",
        "\n",
        "        for m in self.classifier.children():\n",
        "            if isinstance(m, nn.Linear):\n",
        "                nn.init.xavier_uniform(m.weight)\n",
        "            elif isinstance(m, nn.BatchNorm1d):\n",
        "                m.weight.data.fill_(1)\n",
        "                m.bias.data.zero_()\n",
        "\n",
        "\n",
        "    def forward(self, x):\n",
        "        x = self.features(x)\n",
        "        x = x.view(x.size(0), -1)\n",
        "        x = self.classifier(x)\n",
        "\n",
        "        return x"
      ],
      "metadata": {
        "id": "4hbP0jkir0kj"
      },
      "execution_count": 6,
      "outputs": []
    },
    {
      "cell_type": "code",
      "source": [
        "model = Net()\n",
        "\n",
        "optimizer = optim.Adam(model.parameters(), lr=0.003)\n",
        "\n",
        "criterion = nn.CrossEntropyLoss()\n",
        "\n",
        "exp_lr_scheduler = lr_scheduler.StepLR(optimizer, step_size=7, gamma=0.1)\n",
        "\n",
        "if torch.cuda.is_available():\n",
        "    model = model.cuda()\n",
        "    criterion = criterion.cuda()"
      ],
      "metadata": {
        "colab": {
          "base_uri": "https://localhost:8080/"
        },
        "id": "NJ5chnuir4Ib",
        "outputId": "647111fe-306d-492e-edbf-84377c88de88"
      },
      "execution_count": 7,
      "outputs": [
        {
          "output_type": "stream",
          "name": "stderr",
          "text": [
            "<ipython-input-6-e86395bec2bf>:46: UserWarning: nn.init.xavier_uniform is now deprecated in favor of nn.init.xavier_uniform_.\n",
            "  nn.init.xavier_uniform(m.weight)\n"
          ]
        }
      ]
    },
    {
      "cell_type": "code",
      "source": [
        "def train(epoch):\n",
        "    model.train()\n",
        "    exp_lr_scheduler.step()\n",
        "\n",
        "    for batch_idx, (data, target) in enumerate(trainloader):\n",
        "        data, target = Variable(data), Variable(target)\n",
        "\n",
        "        if torch.cuda.is_available():\n",
        "            data = data.cuda()\n",
        "            target = target.cuda()\n",
        "\n",
        "        optimizer.zero_grad()\n",
        "        output = model(data)\n",
        "        loss = criterion(output, target)\n",
        "\n",
        "        loss.backward()\n",
        "        optimizer.step()\n",
        "\n",
        "        if (batch_idx + 1)% 100 == 0:\n",
        "            print('Train Epoch: {} [{}/{} ({:.0f}%)]\\tLoss: {:.6f}'.format(\n",
        "                epoch, (batch_idx + 1) * len(data), len(trainloader.dataset),\n",
        "                100. * (batch_idx + 1) / len(trainloader), loss.item()))"
      ],
      "metadata": {
        "id": "_Y3RbWbRr8YU"
      },
      "execution_count": 8,
      "outputs": []
    },
    {
      "cell_type": "code",
      "source": [
        "def evaluate(data_loader):\n",
        "    model.eval()\n",
        "    loss = 0\n",
        "    correct = 0\n",
        "\n",
        "    for data, target in data_loader:\n",
        "        data, target = Variable(data, volatile=True), Variable(target)\n",
        "        if torch.cuda.is_available():\n",
        "            data = data.cuda()\n",
        "            target = target.cuda()\n",
        "\n",
        "        output = model(data)\n",
        "\n",
        "        loss += F.cross_entropy(output, target, size_average=False).item()\n",
        "\n",
        "        pred = output.data.max(1, keepdim=True)[1]\n",
        "        correct += pred.eq(target.data.view_as(pred)).cpu().sum()\n",
        "\n",
        "    loss /= len(data_loader.dataset)\n",
        "\n",
        "    print('\\nAverage loss: {:.4f}, Accuracy: {}/{} ({:.3f}%)\\n'.format(\n",
        "        loss, correct, len(data_loader.dataset),\n",
        "        100. * correct / len(data_loader.dataset)))"
      ],
      "metadata": {
        "id": "_qXgBY_uzrRY"
      },
      "execution_count": 9,
      "outputs": []
    },
    {
      "cell_type": "code",
      "source": [
        "#train network, reaches 0.645 accuracy on test set after 50 epochs\n",
        "n_epochs = 1\n",
        "\n",
        "for epoch in range(n_epochs):\n",
        "    train(epoch)\n",
        "    evaluate(trainloader)"
      ],
      "metadata": {
        "colab": {
          "base_uri": "https://localhost:8080/"
        },
        "id": "9RFcmuMRzxqa",
        "outputId": "c7664ebb-1ee2-43a1-f297-5223ff229ba7"
      },
      "execution_count": 12,
      "outputs": [
        {
          "output_type": "stream",
          "name": "stdout",
          "text": [
            "Train Epoch: 0 [6400/50000 (13%)]\tLoss: 1.162301\n",
            "Train Epoch: 0 [12800/50000 (26%)]\tLoss: 0.992608\n",
            "Train Epoch: 0 [19200/50000 (38%)]\tLoss: 1.074075\n",
            "Train Epoch: 0 [25600/50000 (51%)]\tLoss: 1.066079\n",
            "Train Epoch: 0 [32000/50000 (64%)]\tLoss: 1.104266\n",
            "Train Epoch: 0 [38400/50000 (77%)]\tLoss: 1.114399\n",
            "Train Epoch: 0 [44800/50000 (90%)]\tLoss: 1.007465\n"
          ]
        },
        {
          "output_type": "stream",
          "name": "stderr",
          "text": [
            "<ipython-input-9-654ec48900d2>:7: UserWarning: volatile was removed and now has no effect. Use `with torch.no_grad():` instead.\n",
            "  data, target = Variable(data, volatile=True), Variable(target)\n"
          ]
        },
        {
          "output_type": "stream",
          "name": "stdout",
          "text": [
            "\n",
            "Average loss: 0.9580, Accuracy: 32880/50000 (65.760%)\n",
            "\n"
          ]
        }
      ]
    },
    {
      "cell_type": "code",
      "source": [
        "#prediction on test set\n",
        "def prediciton(data_loader):\n",
        "    model.eval()\n",
        "    test_pred = torch.LongTensor()\n",
        "\n",
        "    for i, data in enumerate(data_loader):\n",
        "        data = Variable(data[0], volatile=True)\n",
        "        if torch.cuda.is_available():\n",
        "            data = data.cuda()\n",
        "\n",
        "        output = model(data)\n",
        "\n",
        "        pred = output.cpu().data.max(1, keepdim=True)[1]\n",
        "        test_pred = torch.cat((test_pred, pred), dim=0)\n",
        "\n",
        "    return test_pred"
      ],
      "metadata": {
        "id": "vHoAHgfMwaJx"
      },
      "execution_count": 13,
      "outputs": []
    },
    {
      "cell_type": "code",
      "source": [
        "test_pred = prediciton(testloader)"
      ],
      "metadata": {
        "colab": {
          "base_uri": "https://localhost:8080/"
        },
        "id": "0ATZAPC-wehP",
        "outputId": "6a90b022-1c98-437f-a434-1946dd7ef089"
      },
      "execution_count": 14,
      "outputs": [
        {
          "output_type": "stream",
          "name": "stderr",
          "text": [
            "<ipython-input-13-b6492538a8d4>:7: UserWarning: volatile was removed and now has no effect. Use `with torch.no_grad():` instead.\n",
            "  data = Variable(data[0], volatile=True)\n"
          ]
        }
      ]
    },
    {
      "cell_type": "code",
      "source": [
        "#67.47% accuracy for test predictions!\n",
        "evaluate(testloader)"
      ],
      "metadata": {
        "colab": {
          "base_uri": "https://localhost:8080/"
        },
        "id": "d4UDtoUh2NC7",
        "outputId": "25855566-4179-40bf-8870-fd8980278a71"
      },
      "execution_count": 15,
      "outputs": [
        {
          "output_type": "stream",
          "name": "stderr",
          "text": [
            "<ipython-input-9-654ec48900d2>:7: UserWarning: volatile was removed and now has no effect. Use `with torch.no_grad():` instead.\n",
            "  data, target = Variable(data, volatile=True), Variable(target)\n"
          ]
        },
        {
          "output_type": "stream",
          "name": "stdout",
          "text": [
            "\n",
            "Average loss: 0.8712, Accuracy: 6889/10000 (68.890%)\n",
            "\n"
          ]
        }
      ]
    },
    {
      "cell_type": "code",
      "source": [
        "# Define a function to display random images and their predictions\n",
        "def show_random_images_with_predictions(images, predictions, labels, num_images=4):\n",
        "    fig, axes = plt.subplots(1, num_images, figsize=(12, 3))\n",
        "    random_indices = random.sample(range(len(images)), num_images)\n",
        "    prediction_labels = []\n",
        "\n",
        "    for i in range(num_images):\n",
        "        idx = random_indices[i]\n",
        "        prediction_labels += [classes[predictions[idx]]]\n",
        "        axes[i].imshow(images[idx].permute(1, 2, 0))  # Permute the dimensions for display (from [C, H, W] to [H, W, C])\n",
        "        axes[i].set_title(f\"Predicted: {classes[predictions[idx]]}\\nActual: {classes[labels[idx]]}\")\n",
        "        axes[i].axis('off')\n",
        "\n",
        "    plt.show()\n",
        "    return prediction_labels\n",
        "\n",
        "# Load a batch of test data\n",
        "data_iter = iter(testloader)\n",
        "images, labels = next(data_iter)\n",
        "\n",
        "# Make predictions using the model\n",
        "if torch.cuda.is_available():\n",
        "    images = images.cuda()\n",
        "\n",
        "outputs = model(images)\n",
        "_, predicted = torch.max(outputs, 1)\n",
        "\n",
        "# Convert images, labels, and predictions to CPU for visualization\n",
        "images = images.cpu()\n",
        "labels = labels.cpu()\n",
        "predicted = predicted.cpu()\n",
        "\n",
        "# Show random images with predictions\n",
        "show_random_images_with_predictions(images, predicted, labels, num_images=4)\n"
      ],
      "metadata": {
        "colab": {
          "base_uri": "https://localhost:8080/",
          "height": 367
        },
        "id": "mRBa2KLe3Z9q",
        "outputId": "c9a4fdf6-7e32-4edb-eaf8-b2cc6f8248c8"
      },
      "execution_count": 23,
      "outputs": [
        {
          "output_type": "stream",
          "name": "stderr",
          "text": [
            "WARNING:matplotlib.image:Clipping input data to the valid range for imshow with RGB data ([0..1] for floats or [0..255] for integers).\n",
            "WARNING:matplotlib.image:Clipping input data to the valid range for imshow with RGB data ([0..1] for floats or [0..255] for integers).\n",
            "WARNING:matplotlib.image:Clipping input data to the valid range for imshow with RGB data ([0..1] for floats or [0..255] for integers).\n",
            "WARNING:matplotlib.image:Clipping input data to the valid range for imshow with RGB data ([0..1] for floats or [0..255] for integers).\n"
          ]
        },
        {
          "output_type": "display_data",
          "data": {
            "text/plain": [
              "<Figure size 1200x300 with 4 Axes>"
            ],
            "image/png": "[encoded data removed]"
          },
          "metadata": {}
        },
        {
          "output_type": "execute_result",
          "data": {
            "text/plain": [
              "['frog', 'plane', 'cat', 'ship']"
            ]
          },
          "metadata": {},
          "execution_count": 23
        }
      ]
    },
    {
      "cell_type": "markdown",
      "source": [
        "#Using our model with the higher accuracy (67.5 vs 54%), connect to spotify"
      ],
      "metadata": {
        "id": "tcTDEckm37h7"
      }
    },
    {
      "cell_type": "code",
      "source": [
        "!pip install config\n",
        "!pip install spotipy\n",
        "!pip install sentence_transformers\n",
        "!pip install transformers==4.20.1\n",
        "#!pip install --force-reinstall transformers==4.20.1"
      ],
      "metadata": {
        "colab": {
          "base_uri": "https://localhost:8080/",
          "height": 1000
        },
        "id": "3u3H0nKdh1Ph",
        "outputId": "519a38ca-60f8-4eda-d0fa-7f6398bea8af"
      },
      "execution_count": 15,
      "outputs": [
        {
          "output_type": "stream",
          "name": "stdout",
          "text": [
            "Collecting config\n",
            "  Downloading config-0.5.1-py2.py3-none-any.whl (20 kB)\n",
            "Installing collected packages: config\n",
            "Successfully installed config-0.5.1\n",
            "Collecting spotipy\n",
            "  Downloading spotipy-2.23.0-py3-none-any.whl (29 kB)\n",
            "Collecting redis>=3.5.3 (from spotipy)\n",
            "  Downloading redis-5.0.1-py3-none-any.whl (250 kB)\n",
            "\u001b[2K     \u001b[90m━━━━━━━━━━━━━━━━━━━━━━━━━━━━━━━━━━━━━━━━\u001b[0m \u001b[32m250.3/250.3 kB\u001b[0m \u001b[31m5.6 MB/s\u001b[0m eta \u001b[36m0:00:00\u001b[0m\n",
            "\u001b[?25hRequirement already satisfied: requests>=2.25.0 in /usr/local/lib/python3.10/dist-packages (from spotipy) (2.31.0)\n",
            "Requirement already satisfied: six>=1.15.0 in /usr/local/lib/python3.10/dist-packages (from spotipy) (1.16.0)\n",
            "Requirement already satisfied: urllib3>=1.26.0 in /usr/local/lib/python3.10/dist-packages (from spotipy) (2.0.7)\n",
            "Requirement already satisfied: async-timeout>=4.0.2 in /usr/local/lib/python3.10/dist-packages (from redis>=3.5.3->spotipy) (4.0.3)\n",
            "Requirement already satisfied: charset-normalizer<4,>=2 in /usr/local/lib/python3.10/dist-packages (from requests>=2.25.0->spotipy) (3.3.2)\n",
            "Requirement already satisfied: idna<4,>=2.5 in /usr/local/lib/python3.10/dist-packages (from requests>=2.25.0->spotipy) (3.4)\n",
            "Requirement already satisfied: certifi>=2017.4.17 in /usr/local/lib/python3.10/dist-packages (from requests>=2.25.0->spotipy) (2023.7.22)\n",
            "Installing collected packages: redis, spotipy\n",
            "Successfully installed redis-5.0.1 spotipy-2.23.0\n",
            "Collecting sentence_transformers\n",
            "  Downloading sentence-transformers-2.2.2.tar.gz (85 kB)\n",
            "\u001b[2K     \u001b[90m━━━━━━━━━━━━━━━━━━━━━━━━━━━━━━━━━━━━━━━━\u001b[0m \u001b[32m86.0/86.0 kB\u001b[0m \u001b[31m2.1 MB/s\u001b[0m eta \u001b[36m0:00:00\u001b[0m\n",
            "\u001b[?25h  Preparing metadata (setup.py) ... \u001b[?25l\u001b[?25hdone\n",
            "Requirement already satisfied: transformers<5.0.0,>=4.6.0 in /usr/local/lib/python3.10/dist-packages (from sentence_transformers) (4.35.2)\n",
            "Requirement already satisfied: tqdm in /usr/local/lib/python3.10/dist-packages (from sentence_transformers) (4.66.1)\n",
            "Requirement already satisfied: torch>=1.6.0 in /usr/local/lib/python3.10/dist-packages (from sentence_transformers) (2.1.0+cu118)\n",
            "Requirement already satisfied: torchvision in /usr/local/lib/python3.10/dist-packages (from sentence_transformers) (0.16.0+cu118)\n",
            "Requirement already satisfied: numpy in /usr/local/lib/python3.10/dist-packages (from sentence_transformers) (1.23.5)\n",
            "Requirement already satisfied: scikit-learn in /usr/local/lib/python3.10/dist-packages (from sentence_transformers) (1.2.2)\n",
            "Requirement already satisfied: scipy in /usr/local/lib/python3.10/dist-packages (from sentence_transformers) (1.11.3)\n",
            "Requirement already satisfied: nltk in /usr/local/lib/python3.10/dist-packages (from sentence_transformers) (3.8.1)\n",
            "Collecting sentencepiece (from sentence_transformers)\n",
            "  Downloading sentencepiece-0.1.99-cp310-cp310-manylinux_2_17_x86_64.manylinux2014_x86_64.whl (1.3 MB)\n",
            "\u001b[2K     \u001b[90m━━━━━━━━━━━━━━━━━━━━━━━━━━━━━━━━━━━━━━━━\u001b[0m \u001b[32m1.3/1.3 MB\u001b[0m \u001b[31m10.0 MB/s\u001b[0m eta \u001b[36m0:00:00\u001b[0m\n",
            "\u001b[?25hRequirement already satisfied: huggingface-hub>=0.4.0 in /usr/local/lib/python3.10/dist-packages (from sentence_transformers) (0.19.4)\n",
            "Requirement already satisfied: filelock in /usr/local/lib/python3.10/dist-packages (from huggingface-hub>=0.4.0->sentence_transformers) (3.13.1)\n",
            "Requirement already satisfied: fsspec>=2023.5.0 in /usr/local/lib/python3.10/dist-packages (from huggingface-hub>=0.4.0->sentence_transformers) (2023.6.0)\n",
            "Requirement already satisfied: requests in /usr/local/lib/python3.10/dist-packages (from huggingface-hub>=0.4.0->sentence_transformers) (2.31.0)\n",
            "Requirement already satisfied: pyyaml>=5.1 in /usr/local/lib/python3.10/dist-packages (from huggingface-hub>=0.4.0->sentence_transformers) (6.0.1)\n",
            "Requirement already satisfied: typing-extensions>=3.7.4.3 in /usr/local/lib/python3.10/dist-packages (from huggingface-hub>=0.4.0->sentence_transformers) (4.5.0)\n",
            "Requirement already satisfied: packaging>=20.9 in /usr/local/lib/python3.10/dist-packages (from huggingface-hub>=0.4.0->sentence_transformers) (23.2)\n",
            "Requirement already satisfied: sympy in /usr/local/lib/python3.10/dist-packages (from torch>=1.6.0->sentence_transformers) (1.12)\n",
            "Requirement already satisfied: networkx in /usr/local/lib/python3.10/dist-packages (from torch>=1.6.0->sentence_transformers) (3.2.1)\n",
            "Requirement already satisfied: jinja2 in /usr/local/lib/python3.10/dist-packages (from torch>=1.6.0->sentence_transformers) (3.1.2)\n",
            "Requirement already satisfied: triton==2.1.0 in /usr/local/lib/python3.10/dist-packages (from torch>=1.6.0->sentence_transformers) (2.1.0)\n",
            "Requirement already satisfied: regex!=2019.12.17 in /usr/local/lib/python3.10/dist-packages (from transformers<5.0.0,>=4.6.0->sentence_transformers) (2023.6.3)\n",
            "Requirement already satisfied: tokenizers<0.19,>=0.14 in /usr/local/lib/python3.10/dist-packages (from transformers<5.0.0,>=4.6.0->sentence_transformers) (0.15.0)\n",
            "Requirement already satisfied: safetensors>=0.3.1 in /usr/local/lib/python3.10/dist-packages (from transformers<5.0.0,>=4.6.0->sentence_transformers) (0.4.0)\n",
            "Requirement already satisfied: click in /usr/local/lib/python3.10/dist-packages (from nltk->sentence_transformers) (8.1.7)\n",
            "Requirement already satisfied: joblib in /usr/local/lib/python3.10/dist-packages (from nltk->sentence_transformers) (1.3.2)\n",
            "Requirement already satisfied: threadpoolctl>=2.0.0 in /usr/local/lib/python3.10/dist-packages (from scikit-learn->sentence_transformers) (3.2.0)\n",
            "Requirement already satisfied: pillow!=8.3.*,>=5.3.0 in /usr/local/lib/python3.10/dist-packages (from torchvision->sentence_transformers) (9.4.0)\n",
            "Requirement already satisfied: MarkupSafe>=2.0 in /usr/local/lib/python3.10/dist-packages (from jinja2->torch>=1.6.0->sentence_transformers) (2.1.3)\n",
            "Requirement already satisfied: charset-normalizer<4,>=2 in /usr/local/lib/python3.10/dist-packages (from requests->huggingface-hub>=0.4.0->sentence_transformers) (3.3.2)\n",
            "Requirement already satisfied: idna<4,>=2.5 in /usr/local/lib/python3.10/dist-packages (from requests->huggingface-hub>=0.4.0->sentence_transformers) (3.4)\n",
            "Requirement already satisfied: urllib3<3,>=1.21.1 in /usr/local/lib/python3.10/dist-packages (from requests->huggingface-hub>=0.4.0->sentence_transformers) (2.0.7)\n",
            "Requirement already satisfied: certifi>=2017.4.17 in /usr/local/lib/python3.10/dist-packages (from requests->huggingface-hub>=0.4.0->sentence_transformers) (2023.7.22)\n",
            "Requirement already satisfied: mpmath>=0.19 in /usr/local/lib/python3.10/dist-packages (from sympy->torch>=1.6.0->sentence_transformers) (1.3.0)\n",
            "Building wheels for collected packages: sentence_transformers\n",
            "  Building wheel for sentence_transformers (setup.py) ... \u001b[?25l\u001b[?25hdone\n",
            "  Created wheel for sentence_transformers: filename=sentence_transformers-2.2.2-py3-none-any.whl size=125923 sha256=aa593330a422fc906d3eb7e65c2897a6980df63817cf59580054d747561abeef\n",
            "  Stored in directory: /root/.cache/pip/wheels/62/f2/10/1e606fd5f02395388f74e7462910fe851042f97238cbbd902f\n",
            "Successfully built sentence_transformers\n",
            "Installing collected packages: sentencepiece, sentence_transformers\n",
            "Successfully installed sentence_transformers-2.2.2 sentencepiece-0.1.99\n",
            "Collecting transformers==4.20.1\n",
            "  Downloading transformers-4.20.1-py3-none-any.whl (4.4 MB)\n",
            "\u001b[2K     \u001b[90m━━━━━━━━━━━━━━━━━━━━━━━━━━━━━━━━━━━━━━━━\u001b[0m \u001b[32m4.4/4.4 MB\u001b[0m \u001b[31m41.0 MB/s\u001b[0m eta \u001b[36m0:00:00\u001b[0m\n",
            "\u001b[?25hRequirement already satisfied: filelock in /usr/local/lib/python3.10/dist-packages (from transformers==4.20.1) (3.13.1)\n",
            "Requirement already satisfied: huggingface-hub<1.0,>=0.1.0 in /usr/local/lib/python3.10/dist-packages (from transformers==4.20.1) (0.19.4)\n",
            "Requirement already satisfied: numpy>=1.17 in /usr/local/lib/python3.10/dist-packages (from transformers==4.20.1) (1.23.5)\n",
            "Requirement already satisfied: packaging>=20.0 in /usr/local/lib/python3.10/dist-packages (from transformers==4.20.1) (23.2)\n",
            "Requirement already satisfied: pyyaml>=5.1 in /usr/local/lib/python3.10/dist-packages (from transformers==4.20.1) (6.0.1)\n",
            "Requirement already satisfied: regex!=2019.12.17 in /usr/local/lib/python3.10/dist-packages (from transformers==4.20.1) (2023.6.3)\n",
            "Requirement already satisfied: requests in /usr/local/lib/python3.10/dist-packages (from transformers==4.20.1) (2.31.0)\n",
            "Collecting tokenizers!=0.11.3,<0.13,>=0.11.1 (from transformers==4.20.1)\n",
            "  Downloading tokenizers-0.12.1-cp310-cp310-manylinux_2_12_x86_64.manylinux2010_x86_64.whl (6.6 MB)\n",
            "\u001b[2K     \u001b[90m━━━━━━━━━━━━━━━━━━━━━━━━━━━━━━━━━━━━━━━━\u001b[0m \u001b[32m6.6/6.6 MB\u001b[0m \u001b[31m98.5 MB/s\u001b[0m eta \u001b[36m0:00:00\u001b[0m\n",
            "\u001b[?25hRequirement already satisfied: tqdm>=4.27 in /usr/local/lib/python3.10/dist-packages (from transformers==4.20.1) (4.66.1)\n",
            "Requirement already satisfied: fsspec>=2023.5.0 in /usr/local/lib/python3.10/dist-packages (from huggingface-hub<1.0,>=0.1.0->transformers==4.20.1) (2023.6.0)\n",
            "Requirement already satisfied: typing-extensions>=3.7.4.3 in /usr/local/lib/python3.10/dist-packages (from huggingface-hub<1.0,>=0.1.0->transformers==4.20.1) (4.5.0)\n",
            "Requirement already satisfied: charset-normalizer<4,>=2 in /usr/local/lib/python3.10/dist-packages (from requests->transformers==4.20.1) (3.3.2)\n",
            "Requirement already satisfied: idna<4,>=2.5 in /usr/local/lib/python3.10/dist-packages (from requests->transformers==4.20.1) (3.4)\n",
            "Requirement already satisfied: urllib3<3,>=1.21.1 in /usr/local/lib/python3.10/dist-packages (from requests->transformers==4.20.1) (2.0.7)\n",
            "Requirement already satisfied: certifi>=2017.4.17 in /usr/local/lib/python3.10/dist-packages (from requests->transformers==4.20.1) (2023.7.22)\n",
            "Installing collected packages: tokenizers, transformers\n",
            "  Attempting uninstall: tokenizers\n",
            "    Found existing installation: tokenizers 0.15.0\n",
            "    Uninstalling tokenizers-0.15.0:\n",
            "      Successfully uninstalled tokenizers-0.15.0\n",
            "  Attempting uninstall: transformers\n",
            "    Found existing installation: transformers 4.35.2\n",
            "    Uninstalling transformers-4.35.2:\n",
            "      Successfully uninstalled transformers-4.35.2\n",
            "Successfully installed tokenizers-0.12.1 transformers-4.20.1\n"
          ]
        },
        {
          "output_type": "display_data",
          "data": {
            "application/vnd.colab-display-data+json": {
              "pip_warning": {
                "packages": [
                  "transformers"
                ]
              }
            }
          },
          "metadata": {}
        }
      ]
    },
    {
      "cell_type": "code",
      "source": [
        "import pickle\n",
        "from google.colab import drive\n",
        "drive.mount('/content/drive')"
      ],
      "metadata": {
        "colab": {
          "base_uri": "https://localhost:8080/"
        },
        "id": "uDteS8o3hQqG",
        "outputId": "c96a1428-fede-42fe-a8b6-d834513d7c12"
      },
      "execution_count": 1,
      "outputs": [
        {
          "output_type": "stream",
          "name": "stdout",
          "text": [
            "Drive already mounted at /content/drive; to attempt to forcibly remount, call drive.mount(\"/content/drive\", force_remount=True).\n"
          ]
        }
      ]
    },
    {
      "cell_type": "code",
      "source": [
        "CLIENT_ID = \"0c9a7b2360dd47b7993bb1a11dee4cc4\"\n",
        "CLIENT_SECRET = \"e739271fa02e4923be7b7414554619ae\"\n",
        "REDIRECT_URI = \"https://example.com/callback/\"\n",
        "\n",
        "default_genres = ['pop', 'rock', 'folk', 'hip-hop', 'electronic']\n",
        "\n",
        "AUDIO_FEATURES_TO_EXTRACT = ['danceability', 'energy', 'key', 'mode', 'loudness', 'speechiness', 'acousticness',\n",
        "                             'instrumentalness', 'liveness', 'valence', 'tempo', 'time_signature']"
      ],
      "metadata": {
        "id": "W3kc03s1Elbi"
      },
      "execution_count": 2,
      "outputs": []
    },
    {
      "cell_type": "code",
      "source": [
        "import config as cfg\n",
        "import spotipy\n",
        "from spotipy.oauth2 import SpotifyOAuth\n",
        "import logging\n",
        "import pickle\n",
        "import numpy as np\n",
        "\n",
        "\n",
        "def authorize():\n",
        "    \"\"\"\n",
        "    Create and return a Spotipy instance\n",
        "    \"\"\"\n",
        "    # Define the permissions scope of current user\n",
        "    scope = \"user-read-playback-state,user-modify-playback-state,playlist-modify-public\"\n",
        "    sp = spotipy.Spotify(auth_manager=SpotifyOAuth(client_id=CLIENT_ID,\n",
        "                                                   client_secret=CLIENT_SECRET,\n",
        "                                                   redirect_uri=REDIRECT_URI,\n",
        "                                                   scope=scope, open_browser=False))\n",
        "    return sp\n",
        "\n",
        "#this function needs you to download the crossencode_genrepicker.pkl from github into drive. my path is hard coded, but you can change it.\n",
        "def predict_genre(args):\n",
        "    \"\"\"\n",
        "    Takes given text and returns the most similar genres over a given similarity threshold (limit 5).\n",
        "    \"\"\"\n",
        "    with open('/content/drive/MyDrive/CrossEncoder_GenrePicker.pkl', 'rb') as ce_file:\n",
        "        similarity_model = pickle.load(ce_file)\n",
        "\n",
        "    # We want to compute the similarity between the query sentence\n",
        "    input_text = args['text']\n",
        "\n",
        "    # Take all combinations of the text and genre\n",
        "    genres = [\"acoustic\", \"alt-rock\", \"alternative\", \"ambient\", \"anime\",\n",
        "          \"bluegrass\", \"blues\", \"children\", \"chill\", \"classical\", \"club\",\n",
        "          \"comedy\", \"country\", \"dance\", \"disco\", \"disney\", \"dubstep\", \"edm\",\n",
        "          \"electronic\", \"emo\", \"folk\", \"funk\", \"garage\", \"gospel\", \"goth\",\n",
        "          \"grunge\", \"guitar\", \"happy\", \"hard-rock\", \"hardcore\", \"heavy-metal\",\n",
        "          \"hip-hop\", \"holidays\", \"house\", \"idm\", \"indie\", \"indie-pop\", \"jazz\", \"k-pop\", \"kids\", \"latin\", \"metal\",\n",
        "          \"movies\", \"opera\", \"party\", \"piano\", \"pop\", \"power-pop\", \"punk\", \"punk-rock\", \"r-n-b\", \"rainy-day\", \"reggae\",\n",
        "          \"reggaeton\", \"road-trip\", \"rock\", \"rock-n-roll\", \"romance\", \"sad\", \"salsa\", \"show-tunes\",\n",
        "          \"singer-songwriter\", \"ska\", \"sleep\", \"songwriter\", \"soul\", \"soundtracks\", \"study\", \"summer\",\n",
        "          \"synth-pop\", \"tango\", \"techno\", \"work-out\", \"world-music\"]\n",
        "    sentence_combinations = [[input_text, genre] for genre in genres]\n",
        "\n",
        "    # find the similarity scores between the text and each genre, and sort from highest to lowest\n",
        "    similarity_scores = similarity_model.predict(sentence_combinations)\n",
        "    sim_scores_sorted = reversed(np.argsort(similarity_scores))\n",
        "\n",
        "    # Return the top genres over a given threshold\n",
        "    top_genres = []\n",
        "    top_scores = []\n",
        "    for idx in sim_scores_sorted:\n",
        "        if args.get('verbose', 0) > 2:\n",
        "            print(\"{:.2f}\\t{}\".format(similarity_scores[idx], genres[idx]))\n",
        "        if len(top_genres) < 5:\n",
        "            top_genres.append(genres[idx])\n",
        "            top_scores.append(similarity_scores[idx])\n",
        "\n",
        "    for i in range(len(top_scores) - 1):\n",
        "        if abs(top_scores[i + 1]) - abs(top_scores[i]) > 2:\n",
        "            top_genres = top_genres[:i + 1]\n",
        "            break\n",
        "\n",
        "    # take only the top 5 genres\n",
        "    if args.get('verbose', 0) > 0:\n",
        "        print(f\"Genres to be passed to Spotify: {top_genres}\")\n",
        "    return top_genres\n",
        "    # return default_genres\n",
        "\n",
        "\n",
        "def recommend(param_dict, genre_list, sp, args):\n",
        "    \"\"\"\n",
        "    Takes a dictionary of values for various audio parameters and returns a list of Spotify-recommended track URIs.\n",
        "    \"\"\"\n",
        "    # Send a request to Spotify API using Spotipy\n",
        "    result = sp.recommendations(seed_genres=genre_list, limit=args['length'], **param_dict)\n",
        "\n",
        "    # Iterate over response from Spotify, taking track URIs from recommended tracks\n",
        "    if result:\n",
        "        track_uris = []\n",
        "        if args.get('verbose', 0) > 0:\n",
        "            print('Playlist')\n",
        "        for track in result['tracks']:\n",
        "            if args.get('verbose', 0) > 0:\n",
        "                print(f\"Song: {track['name']}, Artist: {dict(track['album']['artists'][0])['name']}\\n\")\n",
        "            track_uris.append(track['uri'])\n",
        "    else:\n",
        "        logging.warning(f\"Nothing was returned from Spotify for url {param_dict}.\")\n",
        "        raise Exception(\"Nothing returned from Spotify.\")\n",
        "    return track_uris\n",
        "\n",
        "\n",
        "def create_spotify_playlist(track_uris, input_text, sp, args):\n",
        "    \"\"\"\n",
        "    Utilize Spotipy library to create a playlist given list of track URIs for current user\n",
        "    \"\"\"\n",
        "    print(args.get('verbose', 0))\n",
        "    # Define username and playlist name to generate\n",
        "    user_id = sp.me()['id']\n",
        "    playlist_to_add = f\"{input_text} - Data Mining Final Project Test\"\n",
        "\n",
        "    # Create playlist from given track URIs\n",
        "    sp.user_playlist_create(user_id, playlist_to_add)\n",
        "    playlists = sp.user_playlists(user_id)\n",
        "    playlist_uid = playlists['items'][0]['id']\n",
        "    playlist_link = f\"https://open.spotify.com/playlist/{playlist_uid}\"\n",
        "    if args.get('verbose', 0) > 1:\n",
        "        print(f\"Track URIs: {track_uris}\")\n",
        "\n",
        "    # Add tracks\n",
        "    sp.playlist_add_items(playlist_uid, track_uris)\n",
        "    logging.info(f\"Spotify playlist '{playlist_to_add}' was created for Spotify user '{user_id}'.\")\n",
        "\n",
        "    if args.get('verbose', 0) > 1:\n",
        "        print(f\"User ID: {user_id}\")\n",
        "        print(f\"Playlist name: {playlist_to_add}\")\n",
        "    if args.get('verbose', 0) > 0:\n",
        "        print(playlist_link)\n",
        "    return playlist_link"
      ],
      "metadata": {
        "id": "q9sqwZvWhT21"
      },
      "execution_count": 3,
      "outputs": []
    },
    {
      "cell_type": "code",
      "source": [
        "import argparse\n",
        "\n",
        "\n",
        "def parse_args(args_string_list):\n",
        "    \"\"\"\n",
        "    Parses input arguments.\n",
        "    Returns a structure with all the input arguments\n",
        "    \"\"\"\n",
        "    # Interface definition\n",
        "    parser = argparse.ArgumentParser(description=\"Input your mood to generate spotify playlist.\",\n",
        "                                     formatter_class=argparse.RawTextHelpFormatter)\n",
        "\n",
        "    subparser = parser.add_subparsers(dest='command')\n",
        "\n",
        "    login = subparser.add_parser('login', help=f'Update client information. \"login -h\" for more information')\n",
        "    login.add_argument('--id', type=str, required=False)\n",
        "    login.add_argument('--secret', type=str, required=False)\n",
        "\n",
        "    update = subparser.add_parser('input', help=f'Input to pass to model. \"input -h\" for more information')\n",
        "    update.add_argument('-t', '--text', type=str, help='Input text')\n",
        "    update.add_argument('-p', '--popularity', type=int, required=False, help=f'Desired popularity')\n",
        "    update.add_argument('-l', '--length', type=int, required=False, help=f'Desired length of playlist', default=100)\n",
        "    update.add_argument('-v', '--verbose', type=int, required=False,\n",
        "                        help=f'Increase verbosity to show more information during playlist generation', default=0)\n",
        "\n",
        "    return parser.parse_args(args_string_list)\n",
        "\n"
      ],
      "metadata": {
        "id": "5l_Ft-V9QEFY"
      },
      "execution_count": 4,
      "outputs": []
    },
    {
      "cell_type": "code",
      "source": [
        "import pandas as pd\n",
        "import sys\n",
        "import os\n",
        "from config import *\n",
        "import logging\n",
        "\n",
        "\n",
        "def raise_spotify_error():\n",
        "    \"\"\"\n",
        "    Raise exception if no result is found from Spotify search.\n",
        "    \"\"\"\n",
        "    raise Exception(f'Nothing Returned from Spotify. Try using different input.')\n",
        "\n",
        "\n",
        "def generate_params(args, num_playlists=10):\n",
        "    \"\"\"\n",
        "    Generate parameters from given text.\n",
        "    1. Search Spotify playlists for given text and return number of playlists given in num_playlists\n",
        "    2. Return all tracks for each playlist, removing tracks that are of NoneType\n",
        "    3. Find each audio feature for each song -\n",
        "        then average for each audio feature across entire playlist for each playlist\n",
        "    4. Average the averages for each playlist, return a dictionary of average for each audio feature\n",
        "    \"\"\"\n",
        "    # Save text argument and initialize a Spotipy instance\n",
        "    # input_text = args\n",
        "    input_text = args['text']\n",
        "    sp = authorize()\n",
        "\n",
        "    # (1) Get all playlist uris from playlists in search results\n",
        "    playlists_results = sp.search(q=input_text, limit=num_playlists, type='playlist')['playlists']\n",
        "    playlist_uris = [playlist['id'] for playlist in playlists_results['items']]\n",
        "    if args.get('verbose', 0) > 1:\n",
        "        print(\"Playlist URIs (list of strings):\", playlist_uris, '\\n')\n",
        "\n",
        "    # (2) Get all track uris from playlists in search results\n",
        "    track_results = [sp.playlist_items(p_uri, limit=100) for p_uri in playlist_uris]\n",
        "    if len(track_results) == 0:\n",
        "        raise_spotify_error()\n",
        "\n",
        "    # Make sure to remove NoneTypes\n",
        "    track_uris_dict = {playlist_uris[i]: [track['track']['id'] if track['track'] is not None else None for track in\n",
        "                                          track_results[i]['items']] for i in range(len(playlist_uris))}\n",
        "    track_uris_dict = {key: [track_uri for track_uri in track_uris_dict[key] if track_uri] for key in track_uris_dict}\n",
        "    if args.get('verbose', 0) > 4:\n",
        "        print(\"Track URIs (dict):\\n\", track_uris_dict)\n",
        "\n",
        "    # (3) Get audio features of each track in each playlist\n",
        "    audio_features = [sp.audio_features(tracks=track_uris_dict[playlist]) for playlist in track_uris_dict]\n",
        "\n",
        "    # (4) Average playlist averages to get average audio features for individual search\n",
        "    audio_features = [[track_features for track_features in playlist if track_features] for playlist in audio_features]\n",
        "    if args.get('verbose', 0) > 4:\n",
        "        print(\"Audio Features (list of ):\\n\", audio_features)\n",
        "\n",
        "    # Build dictionary of averages\n",
        "    audio_features = [[{f: track[f] for f in AUDIO_FEATURES_TO_EXTRACT} for track in playlist] for playlist in\n",
        "                      audio_features]\n",
        "    avg_audio_features = dict(pd.concat([pd.DataFrame(audio_features[i]).mean() for i in range(len(playlist_uris))],\n",
        "                                        axis=1).mean(axis=1))\n",
        "\n",
        "    # Add popularity given to parameter dictionary\n",
        "    avg_audio_features['popularity'] = args['popularity']\n",
        "    if args.get('verbose', 0) > 1 :\n",
        "        print(\"Features averaged (series):\\n\", avg_audio_features, '\\n')\n",
        "    return avg_audio_features"
      ],
      "metadata": {
        "id": "HVH0NEBuOHzb"
      },
      "execution_count": 5,
      "outputs": []
    },
    {
      "cell_type": "code",
      "source": [
        "def main():\n",
        "    os.environ[\"TOKENIZERS_PARALLELISM\"] = \"false\"\n",
        "    args = {\n",
        "    'text': \"apple\",  # Replace with the desired text input\n",
        "    'popularity': 80,  # Replace with the desired popularity value\n",
        "    'length': 50,  # Replace with the desired playlist length\n",
        "    'verbose': 2,  # Replace with the desired verbosity level\n",
        "}\n",
        "\n",
        "    # Rest of the code remains unchanged\n",
        "    try:\n",
        "        sp = authorize()\n",
        "        genre_text = predict_genre(args)\n",
        "        if args.get('verbose', 0) > 1:\n",
        "            print(\"\\nGenres:\", genre_text, '\\n')\n",
        "        params = generate_params(args, num_playlists=7)\n",
        "        tracks = recommend(params, genre_text, sp, args)\n",
        "        if args.get('verbose', 0) > 1:\n",
        "            print(\"Playlist (Song URIs):\", tracks)\n",
        "        # print(args.get('verbose', 0))\n",
        "        create_spotify_playlist(tracks, args['text'], sp, args)\n",
        "    except ValueError as e:\n",
        "        print('ValueError:', e)\n",
        "        logging.critical(e)\n",
        "    except AttributeError as e:\n",
        "        print('AttributeError:', e)\n",
        "        logging.critical(e)\n",
        "    except TypeError as e:\n",
        "        print('TypeError:', e)\n",
        "        logging.critical(e)\n",
        "    except Exception as e:\n",
        "        logging.critical(e)\n",
        "    return\n",
        "\n",
        "\n",
        "if __name__ == '__main__':\n",
        "    main()"
      ],
      "metadata": {
        "colab": {
          "base_uri": "https://localhost:8080/"
        },
        "id": "_Yw2fsG3UAg7",
        "outputId": "22c338ec-ff95-439d-8e97-c39d53ff31f8"
      },
      "execution_count": 6,
      "outputs": [
        {
          "output_type": "stream",
          "name": "stdout",
          "text": [
            "Genres to be passed to Spotify: ['r-n-b', 'edm', 'idm', 'happy', 'alternative']\n",
            "\n",
            "Genres: ['r-n-b', 'edm', 'idm', 'happy', 'alternative'] \n",
            "\n",
            "Go to the following URL: https://accounts.spotify.com/authorize?client_id=0c9a7b2360dd47b7993bb1a11dee4cc4&response_type=code&redirect_uri=https%3A%2F%2Fexample.com%2Fcallback%2F&scope=playlist-modify-public+user-modify-playback-state+user-read-playback-state\n",
            "Enter the URL you were redirected to: https://example.com/callback/?code=AQAjAVpGJah_vk7V7k3Vub0VRwFHH9p5qv22ECI1TOp-eCbFo9hWq-mBfcortEe6iAtmznPI9CBOuylkVVyK_SwCqPlrfhp1_MeRoTsai6ouWjgmzdfEMkgSJV7bQrL-Zuv6cmBd4U_BYg-5uMm-DeuImbf2C_HatXX-gRHwJmd_ZirRPvfEYnqxD_0ZZ_x-NQSIECyAM_lmf7sUMVb9iUFMFL0jSe1ZNnHLHACab75Y2gDBIKO2lfZMJplFBbriXaP86dIsbXnvSP_H2S8Y\n",
            "Playlist URIs (list of strings): ['3mbFWxQz8zYFV0YzdBHQ9L', '4SKGcvQSltUBoUgzjgmGJT', '0eE7tpkt3nGicMPivFUI8l', '6oFDUjRsuPnlDXC87x9w5N', '1NhpHdAbItQvTRCQPnlXcX', '1DTJE2WoR3OnJdqEYzntSW', '0TaA1sPa9hc0SMAhHGwm0o'] \n",
            "\n",
            "Features averaged (series):\n",
            " {'danceability': 0.7133277969649399, 'energy': 0.7070237728937728, 'key': 4.652040816326531, 'mode': 0.5809209837781266, 'loudness': -6.2382408320251175, 'speechiness': 0.09913692569335428, 'acousticness': 0.12239828832103612, 'instrumentalness': 0.05379412227671376, 'liveness': 0.19427329984301414, 'valence': 0.5842359853479854, 'tempo': 119.47057833594977, 'time_signature': 4.056326530612245, 'popularity': 80} \n",
            "\n",
            "Playlist\n",
            "Song: Nlogax, Artist: Boards of Canada\n",
            "\n",
            "Song: Sex With Me, Artist: Rihanna\n",
            "\n",
            "Song: Prince, Artist: Party Favor\n",
            "\n",
            "Song: All The Small Things, Artist: blink-182\n",
            "\n",
            "Song: Hello Ego, Artist: Jhené Aiko\n",
            "\n",
            "Song: Bbydhyonchord, Artist: Aphex Twin\n",
            "\n",
            "Song: I Will Follow You into the Dark, Artist: Death Cab for Cutie\n",
            "\n",
            "Song: Adorn, Artist: Miguel\n",
            "\n",
            "Song: Turn Down for What, Artist: DJ Snake\n",
            "\n",
            "Song: Time Is the Enemy, Artist: Various Artists\n",
            "\n",
            "Song: Electric Feel, Artist: MGMT\n",
            "\n",
            "Song: Sleep Alone, Artist: Two Door Cinema Club\n",
            "\n",
            "Song: Roygbiv, Artist: Various Artists\n",
            "\n",
            "Song: Safe And Sound, Artist: Capital Cities\n",
            "\n",
            "Song: Way Back (feat. Snoop Dogg), Artist: TLC\n",
            "\n",
            "Song: Get Lucky (Radio Edit) [feat. Pharrell Williams and Nile Rodgers], Artist: Daft Punk\n",
            "\n",
            "Song: Pony, Artist: Ginuwine\n",
            "\n",
            "Song: Sail - Unlimited Gravity Remix, Artist: AWOLNATION\n",
            "\n",
            "Song: Alive, Artist: Pearl Jam\n",
            "\n",
            "Song: Say Yes to This, Artist: Lin-Manuel Miranda\n",
            "\n",
            "Song: Heal (Find A Way), Artist: Brian Courtney Wilson\n",
            "\n",
            "Song: Sleepyhead, Artist: Passion Pit\n",
            "\n",
            "Song: Am I Wrong, Artist: Nico & Vinz\n",
            "\n",
            "Song: You're Gonna Go Far, Kid, Artist: The Offspring\n",
            "\n",
            "Song: Lonely, Artist: August Alsina\n",
            "\n",
            "Song: Cupid, Artist: 112\n",
            "\n",
            "Song: Do I Wanna Know?, Artist: Arctic Monkeys\n",
            "\n",
            "Song: Karma, Artist: Queen Naija\n",
            "\n",
            "Song: Clint Eastwood, Artist: Gorillaz\n",
            "\n",
            "Song: Put Your Records On, Artist: Corinne Bailey Rae\n",
            "\n",
            "Song: Doctrine, Artist: Autechre\n",
            "\n",
            "Song: Ghostwriter, Artist: RJD2\n",
            "\n",
            "Song: Ain't It Fun, Artist: Paramore\n",
            "\n",
            "Song: Bucephalus Bouncing Ball, Artist: Aphex Twin\n",
            "\n",
            "Song: Killing In The Name, Artist: Rage Against The Machine\n",
            "\n",
            "Song: It's Been Awhile, Artist: Staind\n",
            "\n",
            "Song: Icarus, Artist: Madeon\n",
            "\n",
            "Song: Every Day, Artist: AFX\n",
            "\n",
            "Song: Locked out of Heaven, Artist: Bruno Mars\n",
            "\n",
            "Song: Uprising, Artist: Muse\n",
            "\n",
            "Song: Kuaga, Artist: Pierce Fulton\n",
            "\n",
            "Song: Dodeccaheedron, Artist: Aphex Twin\n",
            "\n",
            "Song: Sky High, Artist: Big Gigantic\n",
            "\n",
            "Song: Good Riddance (Time of Your Life), Artist: Green Day\n",
            "\n",
            "Song: Clash - Original Mix, Artist: Alesso\n",
            "\n",
            "Song: Float On, Artist: Modest Mouse\n",
            "\n",
            "Song: Adrift, Artist: Tycho\n",
            "\n",
            "Song: Southside, Artist: Lloyd\n",
            "\n",
            "Song: Tha, Artist: Aphex Twin\n",
            "\n",
            "Song: In the End, Artist: Linkin Park\n",
            "\n",
            "Playlist (Song URIs): ['spotify:track:4twZPBdFpG2AXWrlRqurnQ', 'spotify:track:6WAxKNbZoGNzQTIvdMqkFs', 'spotify:track:0OwW9dj25kMLx7D4ZJCURJ', 'spotify:track:12qZHAeOyTf93YAWvGDTat', 'spotify:track:2kt06ZsD735FYBZO8yAAQs', 'spotify:track:35GYDmixAiE0d36qSPqfuO', 'spotify:track:3kZC0ZmFWrEHdUCmUqlvgZ', 'spotify:track:5hJFhO9dvhJoDvUZZ9iWSw', 'spotify:track:67awxiNHNyjMXhVgsHuIrs', 'spotify:track:74b9N5Kpk2nCm3coGaVycl', 'spotify:track:3FtYbEfBqAlGO46NUDQSAt', 'spotify:track:4E5PB55vLwQPIO1OvpU53S', 'spotify:track:3uS2P07FDjhm1GlXKWKilM', 'spotify:track:2Oj5BXOY01EDuJhVYNlEoq', 'spotify:track:68cqjvYCoSbFwhOVAL7eYU', 'spotify:track:2Foc5Q5nqNiosCNqttzHof', 'spotify:track:5FR54UnizyI8pE5E9Zb0Dt', 'spotify:track:7qAWdfgvuDJQlhjppYtAfA', 'spotify:track:1L94M3KIu7QluZe63g64rv', 'spotify:track:6cBwryv6XVRzGooXa1FjnM', 'spotify:track:5NgJ7S0URHkpJvHxmRKy2j', 'spotify:track:3ZUMC5OazTA8QtLpdlPdz9', 'spotify:track:2wqaekenSQZm7hxQOYt8oE', 'spotify:track:1FMm3wG5WOhi7js35KR7Ea', 'spotify:track:0Gh5fbHHVk8uWtbgiFtNaH', 'spotify:track:3kVIFDE3G89I2RPVkiRaRj', 'spotify:track:3jfr0TF6DQcOLat8gGn7E2', 'spotify:track:3qmm9AdG0TnShv0drgXNIQ', 'spotify:track:1RKUoGiLEbcXN4GY4spQDx', 'spotify:track:2nGFzvICaeEWjIrBrL2RAx', 'spotify:track:3cCrc0SbTlwqB4BrROpIMR', 'spotify:track:5Nn2Dj7OQsGL6pgQ9iIzPp', 'spotify:track:1j8z4TTjJ1YOdoFEDwJTQa', 'spotify:track:3ueRuZTuz7HWe4VkOm4FGN', 'spotify:track:59WN2psjkt1tyaxjspN8fp', 'spotify:track:0d2YnyIPgmPQqNSzDg8s8Q', 'spotify:track:15ccEhr9NN3Blmdr0hQwj9', 'spotify:track:2iP0WoxusUtDpnNEgewVD8', 'spotify:track:5PsMbxhgWpJMsouEfDTX6r', 'spotify:track:4VqPOruhp5EdPBeR92t6lQ', 'spotify:track:76Qwq652kO20NZFjU4Ma8D', 'spotify:track:7GT85lJmlSII5mxtMPWooR', 'spotify:track:7IaecDGUsRDMlQ8fS2seW6', 'spotify:track:6ORqU0bHbVCRjXm9AjyHyZ', 'spotify:track:40FU2PFAk107qPuV4dJ4qN', 'spotify:track:2lwwrWVKdf3LR9lbbhnr6R', 'spotify:track:3vlClkZKb5SI3aRJpDVR2B', 'spotify:track:7lurcq2Yw96B1K0KOJAHxg', 'spotify:track:7EipTiVLdacMPjyHs7YF4H', 'spotify:track:60a0Rd6pjrkxjPbaKzXjfq']\n",
            "2\n",
            "Track URIs: ['spotify:track:4twZPBdFpG2AXWrlRqurnQ', 'spotify:track:6WAxKNbZoGNzQTIvdMqkFs', 'spotify:track:0OwW9dj25kMLx7D4ZJCURJ', 'spotify:track:12qZHAeOyTf93YAWvGDTat', 'spotify:track:2kt06ZsD735FYBZO8yAAQs', 'spotify:track:35GYDmixAiE0d36qSPqfuO', 'spotify:track:3kZC0ZmFWrEHdUCmUqlvgZ', 'spotify:track:5hJFhO9dvhJoDvUZZ9iWSw', 'spotify:track:67awxiNHNyjMXhVgsHuIrs', 'spotify:track:74b9N5Kpk2nCm3coGaVycl', 'spotify:track:3FtYbEfBqAlGO46NUDQSAt', 'spotify:track:4E5PB55vLwQPIO1OvpU53S', 'spotify:track:3uS2P07FDjhm1GlXKWKilM', 'spotify:track:2Oj5BXOY01EDuJhVYNlEoq', 'spotify:track:68cqjvYCoSbFwhOVAL7eYU', 'spotify:track:2Foc5Q5nqNiosCNqttzHof', 'spotify:track:5FR54UnizyI8pE5E9Zb0Dt', 'spotify:track:7qAWdfgvuDJQlhjppYtAfA', 'spotify:track:1L94M3KIu7QluZe63g64rv', 'spotify:track:6cBwryv6XVRzGooXa1FjnM', 'spotify:track:5NgJ7S0URHkpJvHxmRKy2j', 'spotify:track:3ZUMC5OazTA8QtLpdlPdz9', 'spotify:track:2wqaekenSQZm7hxQOYt8oE', 'spotify:track:1FMm3wG5WOhi7js35KR7Ea', 'spotify:track:0Gh5fbHHVk8uWtbgiFtNaH', 'spotify:track:3kVIFDE3G89I2RPVkiRaRj', 'spotify:track:3jfr0TF6DQcOLat8gGn7E2', 'spotify:track:3qmm9AdG0TnShv0drgXNIQ', 'spotify:track:1RKUoGiLEbcXN4GY4spQDx', 'spotify:track:2nGFzvICaeEWjIrBrL2RAx', 'spotify:track:3cCrc0SbTlwqB4BrROpIMR', 'spotify:track:5Nn2Dj7OQsGL6pgQ9iIzPp', 'spotify:track:1j8z4TTjJ1YOdoFEDwJTQa', 'spotify:track:3ueRuZTuz7HWe4VkOm4FGN', 'spotify:track:59WN2psjkt1tyaxjspN8fp', 'spotify:track:0d2YnyIPgmPQqNSzDg8s8Q', 'spotify:track:15ccEhr9NN3Blmdr0hQwj9', 'spotify:track:2iP0WoxusUtDpnNEgewVD8', 'spotify:track:5PsMbxhgWpJMsouEfDTX6r', 'spotify:track:4VqPOruhp5EdPBeR92t6lQ', 'spotify:track:76Qwq652kO20NZFjU4Ma8D', 'spotify:track:7GT85lJmlSII5mxtMPWooR', 'spotify:track:7IaecDGUsRDMlQ8fS2seW6', 'spotify:track:6ORqU0bHbVCRjXm9AjyHyZ', 'spotify:track:40FU2PFAk107qPuV4dJ4qN', 'spotify:track:2lwwrWVKdf3LR9lbbhnr6R', 'spotify:track:3vlClkZKb5SI3aRJpDVR2B', 'spotify:track:7lurcq2Yw96B1K0KOJAHxg', 'spotify:track:7EipTiVLdacMPjyHs7YF4H', 'spotify:track:60a0Rd6pjrkxjPbaKzXjfq']\n",
            "User ID: angelalazhou\n",
            "Playlist name: apple - Data Mining Final Project Test\n",
            "https://open.spotify.com/playlist/3OtSEb25t00arPgKk17ivi\n"
          ]
        }
      ]
    },
    {
      "cell_type": "markdown",
      "source": [
        "#Connecting Everything"
      ],
      "metadata": {
        "id": "pQ7Cl6NFtgX3"
      }
    },
    {
      "cell_type": "code",
      "source": [
        "# Load a batch of test data\n",
        "data_iter = iter(testloader)\n",
        "images, labels = next(data_iter)\n",
        "\n",
        "# Make predictions using the model\n",
        "if torch.cuda.is_available():\n",
        "    images = images.cuda()\n",
        "\n",
        "outputs = model(images)\n",
        "_, predicted = torch.max(outputs, 1)\n",
        "\n",
        "# Convert images, labels, and predictions to CPU for visualization\n",
        "images = images.cpu()\n",
        "labels = labels.cpu()\n",
        "predicted = predicted.cpu()\n",
        "\n",
        "# Show random images with predictions\n",
        "result = show_random_images_with_predictions(images, predicted, labels, num_images=2)\n",
        "result"
      ],
      "metadata": {
        "colab": {
          "base_uri": "https://localhost:8080/",
          "height": 362
        },
        "id": "ikLj4Qxetbxt",
        "outputId": "329d6fd1-b33c-471a-de94-c4843a43afe4"
      },
      "execution_count": 25,
      "outputs": [
        {
          "output_type": "stream",
          "name": "stderr",
          "text": [
            "WARNING:matplotlib.image:Clipping input data to the valid range for imshow with RGB data ([0..1] for floats or [0..255] for integers).\n",
            "WARNING:matplotlib.image:Clipping input data to the valid range for imshow with RGB data ([0..1] for floats or [0..255] for integers).\n"
          ]
        },
        {
          "output_type": "display_data",
          "data": {
            "text/plain": [
              "<Figure size 1200x300 with 2 Axes>"
            ],
            "image/png": "[encoded data removed]"
          },
          "metadata": {}
        },
        {
          "output_type": "execute_result",
          "data": {
            "text/plain": [
              "['frog', 'horse']"
            ]
          },
          "metadata": {},
          "execution_count": 25
        }
      ]
    },
    {
      "cell_type": "code",
      "source": [
        "def main():\n",
        "    os.environ[\"TOKENIZERS_PARALLELISM\"] = \"false\"\n",
        "    args = {\n",
        "    'text': result[0],  # Replace with the desired text input - this is where we will call to our image model\n",
        "    'popularity': 80,  # Replace with the desired popularity value\n",
        "    'length': 50,  # Replace with the desired playlist length\n",
        "    'verbose': 2,  # Replace with the desired verbosity level\n",
        "}\n",
        "\n",
        "    # Rest of the code remains unchanged\n",
        "    try:\n",
        "        sp = authorize()\n",
        "        genre_text = predict_genre(args)\n",
        "        if args.get('verbose', 0) > 1:\n",
        "            print(\"\\nGenres:\", genre_text, '\\n')\n",
        "        params = generate_params(args, num_playlists=7)\n",
        "        tracks = recommend(params, genre_text, sp, args)\n",
        "        if args.get('verbose', 0) > 1:\n",
        "            print(\"Playlist (Song URIs):\", tracks)\n",
        "        # print(args.get('verbose', 0))\n",
        "        create_spotify_playlist(tracks, args['text'], sp, args)\n",
        "    except ValueError as e:\n",
        "        print('ValueError:', e)\n",
        "        logging.critical(e)\n",
        "    except AttributeError as e:\n",
        "        print('AttributeError:', e)\n",
        "        logging.critical(e)\n",
        "    except TypeError as e:\n",
        "        print('TypeError:', e)\n",
        "        logging.critical(e)\n",
        "    except Exception as e:\n",
        "        logging.critical(e)\n",
        "    return\n",
        "\n",
        "\n",
        "if __name__ == '__main__':\n",
        "    main()"
      ],
      "metadata": {
        "colab": {
          "base_uri": "https://localhost:8080/"
        },
        "id": "cdmuo5actnwh",
        "outputId": "e046e3a2-1b22-480d-85f4-c5d66e7199a7"
      },
      "execution_count": 26,
      "outputs": [
        {
          "output_type": "stream",
          "name": "stdout",
          "text": [
            "Genres to be passed to Spotify: ['r-n-b', 'grunge', 'edm', 'idm', 'songwriter']\n",
            "\n",
            "Genres: ['r-n-b', 'grunge', 'edm', 'idm', 'songwriter'] \n",
            "\n",
            "Playlist URIs (list of strings): ['5duQlUn24JMuOaJ1EDG6pE', '0Ozvfj9DmnrM4il11Qqi18', '1O11sPkBfTji4SxAFxaRUv', '3DvD1rYYPZIBg6PmIzltMV', '0koA9jQKXcWEJkIuCWjzCt', '4JlER9CKk7i1FpHwNqt5dS', '1r3LI9IlDVdlInlmgPILRO'] \n",
            "\n",
            "Features averaged (series):\n",
            " {'danceability': 0.5654378414699214, 'energy': 0.4501765552654396, 'key': 5.185418167266907, 'mode': 0.7656642657062825, 'loudness': -13.573103797519007, 'speechiness': 0.08854393050553555, 'acousticness': 0.5453934477989862, 'instrumentalness': 0.2236308746993064, 'liveness': 0.2019019511137789, 'valence': 0.43346073516073097, 'tempo': 117.04792506469254, 'time_signature': 3.78999599839936, 'popularity': 80} \n",
            "\n",
            "Playlist\n",
            "Song: Cow Cud Is A Twin, Artist: Aphex Twin\n",
            "\n",
            "Song: I'm Home, Artist: Various Artists\n",
            "\n",
            "Song: Cry Osaka Cry, Artist: Arovane\n",
            "\n",
            "Song: Like a Stone, Artist: Audioslave\n",
            "\n",
            "Song: Simple Machine, Artist: Guster\n",
            "\n",
            "Song: Say Yes to This, Artist: Lin-Manuel Miranda\n",
            "\n",
            "Song: Icarus, Artist: Madeon\n",
            "\n",
            "Song: Rock 'n' Roll (Will Take You to the Mountain), Artist: Skrillex\n",
            "\n",
            "Song: We Disappear, Artist: Jon Hopkins\n",
            "\n",
            "Song: Did I Ever Love You, Artist: Leonard Cohen\n",
            "\n",
            "Song: Deep Like Airline Failure, Artist: Proem\n",
            "\n",
            "Song: Bbydhyonchord, Artist: Aphex Twin\n",
            "\n",
            "Song: Woo Boost, Artist: Various Artists\n",
            "\n",
            "Song: One Headlight, Artist: The Wallflowers\n",
            "\n",
            "Song: Chimes, Artist: Hudson Mohawke\n",
            "\n",
            "Song: Pony, Artist: Ginuwine\n",
            "\n",
            "Song: Frogs, Artist: Alice In Chains\n",
            "\n",
            "Song: American Girl, Artist: Tom Petty and the Heartbreakers\n",
            "\n",
            "Song: Dumb, Artist: Nirvana\n",
            "\n",
            "Song: Forever, Artist: Pope\n",
            "\n",
            "Song: Hands All Over, Artist: Soundgarden\n",
            "\n",
            "Song: Burn - Remix, Artist: Ellie Goulding\n",
            "\n",
            "Song: Isoprophlex (AKA Isopropanol), Artist: Aphex Twin\n",
            "\n",
            "Song: Nlogax, Artist: Boards of Canada\n",
            "\n",
            "Song: Take Me Home, Country Roads, Artist: John Denver\n",
            "\n",
            "Song: Cinema (feat. Gary Go) - Skrillex Remix, Artist: Benny Benassi\n",
            "\n",
            "Song: Red River, Artist: Tom Petty and the Heartbreakers\n",
            "\n",
            "Song: It Isn't Gonna Be That Way, Artist: Steve Forbert\n",
            "\n",
            "Song: Afterlife, Artist: Ingrid Michaelson\n",
            "\n",
            "Song: Rape Me, Artist: Nirvana\n",
            "\n",
            "Song: Too Deep, Artist: dvsn\n",
            "\n",
            "Song: We Die Young, Artist: Alice In Chains\n",
            "\n",
            "Song: Late Again - Rerecorded, Artist: Stealers Wheel\n",
            "\n",
            "Song: Mona Lisa, Artist: Grant-Lee Phillips\n",
            "\n",
            "Song: Moonshine (Live), Artist: Various Artists\n",
            "\n",
            "Song: Blow Up The Outside World, Artist: Soundgarden\n",
            "\n",
            "Song: Clarity, Artist: Zedd\n",
            "\n",
            "Song: Frances Farmer Will Have Her Revenge On Seattle, Artist: Nirvana\n",
            "\n",
            "Song: Them Bones (2022 Remaster), Artist: Alice In Chains\n",
            "\n",
            "Song: Another Lifetime, Artist: Nao\n",
            "\n",
            "Song: Arch Carrier, Artist: Autechre\n",
            "\n",
            "Song: Turquoise Hexagon Sun, Artist: Boards of Canada\n",
            "\n",
            "Song: Ziggomatic 17, Artist: Aphex Twin\n",
            "\n",
            "Song: Pushin' Forward Back, Artist: Temple Of The Dog\n",
            "\n",
            "Song: Immortality - Remastered, Artist: Pearl Jam\n",
            "\n",
            "Song: Something In The Way, Artist: Nirvana\n",
            "\n",
            "Song: Angry Chair (2022 Remaster), Artist: Alice In Chains\n",
            "\n",
            "Song: Honesty, Artist: Pink Sweat$\n",
            "\n",
            "Song: Versace on the Floor, Artist: Bruno Mars\n",
            "\n",
            "Song: Zero - Remastered 2012, Artist: The Smashing Pumpkins\n",
            "\n",
            "Playlist (Song URIs): ['spotify:track:3JdvEIcI6e6Ovi7bGJO1b1', 'spotify:track:1ebiFSKKdo5aEa8y2QzQqy', 'spotify:track:0erSl4bCBQPZLKmVt8J6Jp', 'spotify:track:3YuaBvuZqcwN3CEAyyoaei', 'spotify:track:3Xs2N8U8Zf1e45PnExkPTy', 'spotify:track:6cBwryv6XVRzGooXa1FjnM', 'spotify:track:15ccEhr9NN3Blmdr0hQwj9', 'spotify:track:2TkoUq8sPXmc4KYzKBiTWT', 'spotify:track:5J1HmHmp6zCsSfHGkaeF53', 'spotify:track:2QCaIZQkKrDLmpSIcfQsDS', 'spotify:track:4gzxtRQ0fX2xIkLdM7Gb1M', 'spotify:track:35GYDmixAiE0d36qSPqfuO', 'spotify:track:2aNyZbeTHirn7ToWq7IGym', 'spotify:track:0z1b34WikhOH9ZxU8QDWcv', 'spotify:track:1U3oH5CRRcjT5TT69b6eYl', 'spotify:track:5FR54UnizyI8pE5E9Zb0Dt', 'spotify:track:08IMar818SkF4xZmkNfbi1', 'spotify:track:29AqPjeqZcXpGvdxLchZoP', 'spotify:track:6OaCwySGYg30ncfsjKNbtM', 'spotify:track:42prDRVUOkgzQsfSFL2mmL', 'spotify:track:1P4NeCeT76MGWkgVV8uRxP', 'spotify:track:2uXQrjOL3kT5ZiLfu21onO', 'spotify:track:22RQncSkPTpwh4HybHfel3', 'spotify:track:4twZPBdFpG2AXWrlRqurnQ', 'spotify:track:0WtGK5bsQDkQoqoyE9HjZu', 'spotify:track:2Ir35f19vfOEG3iEDbV2Sa', 'spotify:track:2JnQvMvZyV8c2fiLMKHZ80', 'spotify:track:78z6Fz7LdRO6Njn8Kfnh0x', 'spotify:track:27RpK4R1y388Z3IiilCQG3', 'spotify:track:47KVHb6cOVBZbmXQweE5p7', 'spotify:track:3uSSjnDMmoyERaAK9KvpJR', 'spotify:track:5Ds35L9KpUDKgSxZ6whuoQ', 'spotify:track:471YZNMFBEhj5jjKHTZmWl', 'spotify:track:2uQE2ysWSw9m0UNuSYidE4', 'spotify:track:6vyFhuIRV89OtAbd39HwcB', 'spotify:track:5TLA7O0ogTqwZHbS3ERabw', 'spotify:track:60wwxj6Dd9NJlirf84wr2c', 'spotify:track:0W0wrLHEedr7d5drOI24G7', 'spotify:track:4A065x9kJt955eGVqf813g', 'spotify:track:36YutBq4lokWfRAFXJ6qrF', 'spotify:track:7hAmInNS31FgKrrxllY30I', 'spotify:track:5ibLVezK2NlPSq2CBaNl91', 'spotify:track:5INiUKTgZ9RC1PY1qntPcq', 'spotify:track:1B45KRIxXBnKosy2OGvPEJ', 'spotify:track:5TxUedy2CM04QihDdOFnsk', 'spotify:track:1nFtiJxYdhtFfFtfXBv06s', 'spotify:track:5jCp5VtcpUlHtW8Dwlx13Y', 'spotify:track:5Bsyin9f7eK4aLH59jGwGy', 'spotify:track:0kN8xEmgMW9mh7UmDYHlJP', 'spotify:track:1o2jjiTtiVJEtQyYzcRHnm']\n",
            "2\n",
            "Track URIs: ['spotify:track:3JdvEIcI6e6Ovi7bGJO1b1', 'spotify:track:1ebiFSKKdo5aEa8y2QzQqy', 'spotify:track:0erSl4bCBQPZLKmVt8J6Jp', 'spotify:track:3YuaBvuZqcwN3CEAyyoaei', 'spotify:track:3Xs2N8U8Zf1e45PnExkPTy', 'spotify:track:6cBwryv6XVRzGooXa1FjnM', 'spotify:track:15ccEhr9NN3Blmdr0hQwj9', 'spotify:track:2TkoUq8sPXmc4KYzKBiTWT', 'spotify:track:5J1HmHmp6zCsSfHGkaeF53', 'spotify:track:2QCaIZQkKrDLmpSIcfQsDS', 'spotify:track:4gzxtRQ0fX2xIkLdM7Gb1M', 'spotify:track:35GYDmixAiE0d36qSPqfuO', 'spotify:track:2aNyZbeTHirn7ToWq7IGym', 'spotify:track:0z1b34WikhOH9ZxU8QDWcv', 'spotify:track:1U3oH5CRRcjT5TT69b6eYl', 'spotify:track:5FR54UnizyI8pE5E9Zb0Dt', 'spotify:track:08IMar818SkF4xZmkNfbi1', 'spotify:track:29AqPjeqZcXpGvdxLchZoP', 'spotify:track:6OaCwySGYg30ncfsjKNbtM', 'spotify:track:42prDRVUOkgzQsfSFL2mmL', 'spotify:track:1P4NeCeT76MGWkgVV8uRxP', 'spotify:track:2uXQrjOL3kT5ZiLfu21onO', 'spotify:track:22RQncSkPTpwh4HybHfel3', 'spotify:track:4twZPBdFpG2AXWrlRqurnQ', 'spotify:track:0WtGK5bsQDkQoqoyE9HjZu', 'spotify:track:2Ir35f19vfOEG3iEDbV2Sa', 'spotify:track:2JnQvMvZyV8c2fiLMKHZ80', 'spotify:track:78z6Fz7LdRO6Njn8Kfnh0x', 'spotify:track:27RpK4R1y388Z3IiilCQG3', 'spotify:track:47KVHb6cOVBZbmXQweE5p7', 'spotify:track:3uSSjnDMmoyERaAK9KvpJR', 'spotify:track:5Ds35L9KpUDKgSxZ6whuoQ', 'spotify:track:471YZNMFBEhj5jjKHTZmWl', 'spotify:track:2uQE2ysWSw9m0UNuSYidE4', 'spotify:track:6vyFhuIRV89OtAbd39HwcB', 'spotify:track:5TLA7O0ogTqwZHbS3ERabw', 'spotify:track:60wwxj6Dd9NJlirf84wr2c', 'spotify:track:0W0wrLHEedr7d5drOI24G7', 'spotify:track:4A065x9kJt955eGVqf813g', 'spotify:track:36YutBq4lokWfRAFXJ6qrF', 'spotify:track:7hAmInNS31FgKrrxllY30I', 'spotify:track:5ibLVezK2NlPSq2CBaNl91', 'spotify:track:5INiUKTgZ9RC1PY1qntPcq', 'spotify:track:1B45KRIxXBnKosy2OGvPEJ', 'spotify:track:5TxUedy2CM04QihDdOFnsk', 'spotify:track:1nFtiJxYdhtFfFtfXBv06s', 'spotify:track:5jCp5VtcpUlHtW8Dwlx13Y', 'spotify:track:5Bsyin9f7eK4aLH59jGwGy', 'spotify:track:0kN8xEmgMW9mh7UmDYHlJP', 'spotify:track:1o2jjiTtiVJEtQyYzcRHnm']\n",
            "User ID: angelalazhou\n",
            "Playlist name: frog - Data Mining Final Project Test\n",
            "https://open.spotify.com/playlist/1Yfec8ayTKVJjgTjw91moN\n"
          ]
        }
      ]
    },
    {
      "cell_type": "markdown",
      "source": [
        "#Future Steps:\n",
        "- generalize CNN model to not just 10 classes of images (airplane, automobile, bird, cat, deer, dog, frog, horse, truck)\n",
        "- Our spotify algorithm works for longer strings of text too - right now our input is just one word from the model; can we use sentiment analysis to create a longer string of text / phrase to input?\n",
        "- publicize spotify project so other spotify users can also use it"
      ],
      "metadata": {
        "id": "DWhmdMXkbz0w"
      }
    }
  ]
}